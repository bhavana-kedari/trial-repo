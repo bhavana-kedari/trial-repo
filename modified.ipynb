{
 "cells": [
  {
   "cell_type": "code",
   "execution_count": null,
   "metadata": {},
   "outputs": [],
   "source": [
    "print(\"changes made to the github repository: \\n\")\n",
    "print(\"1. deleted an exisiting file called modification.py\")\n",
    "print(\"2. added a new file called modified.ipynb\")"
   ]
  }
 ],
 "metadata": {
  "language_info": {
   "name": "python"
  }
 },
 "nbformat": 4,
 "nbformat_minor": 2
}
